{
 "cells": [
  {
   "cell_type": "markdown",
   "id": "b0ffa93d-f2c1-4ceb-9039-a1b3171666aa",
   "metadata": {},
   "source": [
    "# Design Patterns in python\n"
   ]
  },
  {
   "cell_type": "markdown",
   "id": "4e3432c6",
   "metadata": {},
   "source": [
    "##  Common patterns covered in this chapter include:\n",
    "- Structural patterns :(Facade, Adapter, Composite)\n",
    "- Behavioral patterns (e.g. Chain of Responsibility, Command, State)\n",
    "- As well as Python-specific patterns (such as the Borg pattern or optimal use of Decorators)"
   ]
  },
  {
   "cell_type": "markdown",
   "id": "97674f5a-d29f-44d4-8b3a-b48933bb9b1d",
   "metadata": {},
   "source": [
    "## 1. GitFetcher & Shared State (Borg Pattern):\n",
    "- ❌ Problem: Ensuring multiple instances share the latest Git tag.\n",
    "- ⚠️ Issues Before: Each instance had its own independent tag, leading to inconsistencies.\n",
    "- ✅ Solution: A class variable _current_tag keeps all instances synchronized​\n"
   ]
  },
  {
   "cell_type": "code",
   "execution_count": 25,
   "id": "59cb8d1a",
   "metadata": {},
   "outputs": [
    {
     "name": "stdout",
     "output_type": "stream",
     "text": [
      "The history saving thread hit an unexpected error (OperationalError('attempt to write a readonly database')).History will not be written to the database.\n"
     ]
    }
   ],
   "source": [
    "class GitFetcher:\n",
    "    _current_tag = None  \n",
    "\n",
    "    def __init__(self, tag):\n",
    "        self.current_tag = tag  \n",
    "\n",
    "    @property\n",
    "    def current_tag(self):\n",
    "        if self._current_tag is None:\n",
    "            raise AttributeError(\"tag was never set\")\n",
    "        return self._current_tag\n",
    "\n",
    "    @current_tag.setter\n",
    "    def current_tag(self, new_tag):\n",
    "        self.__class__._current_tag = new_tag  \n",
    "\n",
    "    def pull(self):\n",
    "        print(f\"Pulling from {self.current_tag}\")\n",
    "        return self.current_tag"
   ]
  },
  {
   "cell_type": "code",
   "execution_count": 26,
   "id": "4db78a16-9c1e-43d4-ab5d-8e34e3b5d604",
   "metadata": {},
   "outputs": [
    {
     "name": "stdout",
     "output_type": "stream",
     "text": [
      "Pulling from v2.0\n",
      "v2.0\n",
      "Pulling from v3.0\n",
      "v3.0\n"
     ]
    }
   ],
   "source": [
    "f1 = GitFetcher(\"v1.0\")\n",
    "f2 = GitFetcher(\"v2.0\")\n",
    "\n",
    "print(f1.pull()) \n",
    "f1.current_tag = \"v3.0\"\n",
    "print(f2.pull()) \n"
   ]
  },
  {
   "cell_type": "markdown",
   "id": "5da7b3bb",
   "metadata": {},
   "source": [
    "## 2. SharedAttribute Descriptor:\n",
    "- ❌Problem: Encapsulating shared attributes for cleaner design.\n",
    "- ⚠️Issue Before: Class attributes lacked proper encapsulation and reuse.\n",
    "- ✅Solution: A descriptor class manages shared state, improving cohesion."
   ]
  },
  {
   "cell_type": "code",
   "execution_count": 27,
   "id": "adb74223",
   "metadata": {},
   "outputs": [],
   "source": [
    "class SharedAttribute:\n",
    "    def __init__(self, initial_value=None):\n",
    "        self.value = initial_value\n",
    "        self._name = None\n",
    "\n",
    "    def __get__(self, instance, owner):\n",
    "        if instance is None:\n",
    "            return self\n",
    "        if self.value is None:\n",
    "            raise AttributeError(f\"{self._name} was never set\")\n",
    "        return self.value\n",
    "\n",
    "    def __set__(self, instance, new_value):\n",
    "        self.value = new_value\n",
    "\n",
    "    def __set_name__(self, owner, name):\n",
    "        self._name = name"
   ]
  },
  {
   "cell_type": "code",
   "execution_count": 28,
   "id": "0b4be606",
   "metadata": {},
   "outputs": [],
   "source": [
    "class GitFetcher:\n",
    "    current_tag = SharedAttribute()\n",
    "    current_branch = SharedAttribute()\n",
    "\n",
    "    def __init__(self, tag, branch=None):\n",
    "        self.current_tag = tag\n",
    "        self.current_branch = branch"
   ]
  },
  {
   "cell_type": "markdown",
   "id": "d60ada7f",
   "metadata": {},
   "source": [
    "## 3. Borg Pattern:\n",
    "- ❌Problem: Ensuring all instances share the same internal state.\n",
    "- ⚠️Issue Before: Objects had independent state, leading to inconsistency.\n",
    "- ✅Solution: Shared dictionary (__ dict __) synchronizes attributes across instances."
   ]
  },
  {
   "cell_type": "code",
   "execution_count": 30,
   "id": "5f6e2fc0",
   "metadata": {},
   "outputs": [],
   "source": [
    "class BaseFetcher:\n",
    "    def __init__(self, source):\n",
    "        self.source = source\n",
    "\n",
    "class TagFetcher(BaseFetcher):\n",
    "    _attributes = {}\n",
    "\n",
    "    def __init__(self, source):\n",
    "        self.__dict__ = self.__class__._attributes\n",
    "        super().__init__(source)\n",
    "\n",
    "    def pull(self):\n",
    "        logger.info(\"pulling from tag %s\", self.source)\n",
    "        return f\"Tag = {self.source}\"\n"
   ]
  },
  {
   "cell_type": "code",
   "execution_count": 32,
   "id": "3ebfddad",
   "metadata": {},
   "outputs": [
    {
     "name": "stdout",
     "output_type": "stream",
     "text": [
      "20\n"
     ]
    }
   ],
   "source": [
    "obj1 = Example(10)\n",
    "obj2 = Example(20)\n",
    "print(obj1.value) "
   ]
  },
  {
   "cell_type": "markdown",
   "id": "04d3f609",
   "metadata": {},
   "source": [
    "## 4. TagFetcher & BranchFetcher (Borg Pattern with Separation):\n",
    "- ❌Problem: Applying Borg Pattern while keeping fetchers separate.\n",
    "- ✅Solution: Two fetchers for Git tags and branches, ensuring a clean structure."
   ]
  },
  {
   "cell_type": "code",
   "execution_count": 33,
   "id": "7442d14b",
   "metadata": {},
   "outputs": [],
   "source": [
    "class BranchFetcher(BaseFetcher):\n",
    "    _attributes = {}\n",
    "\n",
    "    def __init__(self, source):\n",
    "        self.__dict__ = self.__class__._attributes\n",
    "        super().__init__(source)\n"
   ]
  },
  {
   "cell_type": "markdown",
   "id": "1dafc1e4",
   "metadata": {},
   "source": [
    "## 5. Builder Pattern:\n",
    "- ❌Problem: Simplifying object creation when multiple components are involved.\n",
    "- ⚠️Issue Before: Complex initialization scattered across the code.\n",
    "- ✅Solution: A builder class encapsulates creation logic for better maintainability."
   ]
  },
  {
   "cell_type": "code",
   "execution_count": 35,
   "id": "2f854cc4",
   "metadata": {},
   "outputs": [],
   "source": [
    "class CarBuilder:\n",
    "    def __init__(self):\n",
    "        self.car = Car()\n",
    "\n",
    "    def add_engine(self, engine):\n",
    "        self.car.engine = engine\n",
    "        return self\n",
    "\n",
    "    def add_wheels(self, wheels):\n",
    "        self.car.wheels = wheels\n",
    "        return self\n",
    "\n",
    "    def build(self):\n",
    "        return self.car"
   ]
  },
  {
   "cell_type": "markdown",
   "id": "02b8c631",
   "metadata": {},
   "source": [
    "#### for example:"
   ]
  },
  {
   "cell_type": "code",
   "execution_count": 37,
   "id": "28bf0fbd",
   "metadata": {},
   "outputs": [],
   "source": [
    "class Car:\n",
    "    def __init__(self):\n",
    "        self.engine = None\n",
    "        self.wheels = None\n",
    "\n",
    "class CarBuilder:\n",
    "    def __init__(self):\n",
    "        self.car = Car()\n",
    "\n",
    "    def add_engine(self, engine):\n",
    "        self.car.engine = engine\n",
    "        return self\n",
    "\n",
    "    def add_wheels(self, wheels):\n",
    "        self.car.wheels = wheels\n",
    "        return self\n",
    "\n",
    "    def build(self):\n",
    "        return self.car"
   ]
  },
  {
   "cell_type": "markdown",
   "id": "0fddf978",
   "metadata": {},
   "source": [
    "## 6. Adapter Pattern:\n",
    "- ❌Problem: Adapting incompatible interfaces.\n",
    "- ⚠️Issue Before: External dependencies had different method signatures.\n",
    "- ✅Solution: A wrapper class adapts method signatures cleanly."
   ]
  },
  {
   "cell_type": "code",
   "execution_count": 38,
   "id": "446ec0f3",
   "metadata": {},
   "outputs": [
    {
     "name": "stdout",
     "output_type": "stream",
     "text": [
      "Results for 42:john_doe\n"
     ]
    }
   ],
   "source": [
    "class ExternalLibrary:\n",
    "    def search(self, query):\n",
    "        return f\"Results for {query}\"\n",
    "\n",
    "class Adapter:\n",
    "    def __init__(self, adaptee):\n",
    "        self.adaptee = adaptee\n",
    "\n",
    "    def fetch(self, user_id, username):\n",
    "        query = f\"{user_id}:{username}\"\n",
    "        return self.adaptee.search(query)\n",
    "\n",
    "\n",
    "adapter = Adapter(ExternalLibrary())\n",
    "print(adapter.fetch(42, \"john_doe\"))  "
   ]
  },
  {
   "cell_type": "markdown",
   "id": "670e2e4f",
   "metadata": {},
   "source": [
    "## 7. Composite Pattern:\n",
    "- ❌Problem: Treating single objects and groups uniformly.\n",
    "- ⚠️Issue Before: Handling individual and grouped items separately was complex.\n",
    "- ✅Solution: A tree-like structure where composite and individual objects share an interface."
   ]
  },
  {
   "cell_type": "code",
   "execution_count": 39,
   "id": "020147ce",
   "metadata": {},
   "outputs": [
    {
     "name": "stdout",
     "output_type": "stream",
     "text": [
      "270.0\n"
     ]
    }
   ],
   "source": [
    "class Product:\n",
    "    def __init__(self, name, price):\n",
    "        self.name = name\n",
    "        self.price = price\n",
    "\n",
    "class ProductBundle:\n",
    "    def __init__(self, name, discount, *products):\n",
    "        self.name = name\n",
    "        self.discount = discount\n",
    "        self.products = products\n",
    "\n",
    "    @property\n",
    "    def price(self):\n",
    "        total = sum(product.price for product in self.products)\n",
    "        return total * (1 - self.discount)\n",
    "\n",
    "\n",
    "p1 = Product(\"Product 1\", 100)\n",
    "p2 = Product(\"Product 2\", 200)\n",
    "bundle = ProductBundle(\"Bundle\", 0.1, p1, p2)\n",
    "print(bundle.price)  "
   ]
  },
  {
   "cell_type": "markdown",
   "id": "5aa2fdfe",
   "metadata": {},
   "source": [
    "## 8. Decorator Pattern:\n",
    "- ❌Problem: Dynamically adding behaviors without modifying the base class.\n",
    "- ⚠️Issue Before: Subclassing led to class explosion.\n",
    "- ✅Solution: Wrappers add behavior dynamically."
   ]
  },
  {
   "cell_type": "code",
   "execution_count": 40,
   "id": "9b93287c",
   "metadata": {},
   "outputs": [
    {
     "name": "stdout",
     "output_type": "stream",
     "text": [
      "{'key': 'value', 'upper': 'uppercase'}\n"
     ]
    }
   ],
   "source": [
    "class DictQuery:\n",
    "    def __init__(self, **kwargs):\n",
    "        self._raw_query = kwargs\n",
    "\n",
    "    def render(self):\n",
    "        return self._raw_query\n",
    "\n",
    "class QueryEnhancer:\n",
    "    def __init__(self, query):\n",
    "        self.decorated = query\n",
    "\n",
    "    def render(self):\n",
    "        return self.decorated.render()\n",
    "\n",
    "class RemoveEmpty(QueryEnhancer):\n",
    "    def render(self):\n",
    "        original = super().render()\n",
    "        return {k: v for k, v in original.items() if v}\n",
    "\n",
    "class CaseInsensitive(QueryEnhancer):\n",
    "    def render(self):\n",
    "        original = super().render()\n",
    "        return {k: v.lower() for k, v in original.items()}\n",
    "\n",
    "query = DictQuery(key=\"Value\", empty=\"\", none=None, upper=\"UPPERCASE\")\n",
    "decorated = CaseInsensitive(RemoveEmpty(query))\n",
    "print(decorated.render())  # {'key': 'value', 'upper': 'uppercase'}"
   ]
  },
  {
   "cell_type": "markdown",
   "id": "d32f76d2",
   "metadata": {},
   "source": [
    "## 9. Facade Pattern:\n",
    "- ❌Problem: Simplifying complex subsystems.\n",
    "- ⚠️Issue Before: Clients had to interact with multiple components.\n",
    "- ✅Solution: A single unified interface hides complexity."
   ]
  },
  {
   "cell_type": "code",
   "execution_count": 41,
   "id": "3c4249f7",
   "metadata": {},
   "outputs": [
    {
     "name": "stdout",
     "output_type": "stream",
     "text": [
      "SubsystemA: Ready! and SubsystemB: Go!\n"
     ]
    }
   ],
   "source": [
    "class SubsystemA:\n",
    "    def operation(self):\n",
    "        return \"SubsystemA: Ready!\"\n",
    "\n",
    "class SubsystemB:\n",
    "    def operation(self):\n",
    "        return \"SubsystemB: Go!\"\n",
    "\n",
    "class Facade:\n",
    "    def __init__(self):\n",
    "        self.system_a = SubsystemA()\n",
    "        self.system_b = SubsystemB()\n",
    "\n",
    "    def operation(self):\n",
    "        return f\"{self.system_a.operation()} and {self.system_b.operation()}\"\n",
    "\n",
    "facade = Facade()\n",
    "print(facade.operation())  # SubsystemA: Ready! and SubsystemB: Go!"
   ]
  },
  {
   "cell_type": "markdown",
   "id": "36ab789e",
   "metadata": {},
   "source": [
    "## 10. Chain of Responsibility:\n",
    "- ❌Problem: Handling requests with multiple possible processors.\n",
    "- ⚠️Issue Before: if-else chains made adding new handlers difficult.\n",
    "- ✅Solution: Requests pass through a chain of handlers."
   ]
  },
  {
   "cell_type": "code",
   "execution_count": 42,
   "id": "be0ac448",
   "metadata": {},
   "outputs": [
    {
     "name": "stdout",
     "output_type": "stream",
     "text": [
      "{'event': 'login'}\n"
     ]
    }
   ],
   "source": [
    "class Event:\n",
    "    def __init__(self, successor=None):\n",
    "        self.successor = successor\n",
    "\n",
    "    def process(self, logline):\n",
    "        if self.can_process(logline):\n",
    "            return self._process(logline)\n",
    "        if self.successor:\n",
    "            return self.successor.process(logline)\n",
    "\n",
    "    def can_process(self, logline):\n",
    "        return False\n",
    "\n",
    "    def _process(self, logline):\n",
    "        return {}\n",
    "\n",
    "class LoginEvent(Event):\n",
    "    def can_process(self, logline):\n",
    "        return \"login\" in logline\n",
    "\n",
    "    def _process(self, logline):\n",
    "        return {\"event\": \"login\"}\n",
    "\n",
    "class LogoutEvent(Event):\n",
    "    def can_process(self, logline):\n",
    "        return \"logout\" in logline\n",
    "\n",
    "    def _process(self, logline):\n",
    "        return {\"event\": \"logout\"}\n",
    "\n",
    "chain = LoginEvent(LogoutEvent())\n",
    "print(chain.process(\"User login\"))  # {'event': 'login'}"
   ]
  },
  {
   "cell_type": "markdown",
   "id": "20beac9d",
   "metadata": {},
   "source": [
    "## 11. Template Method Pattern for Data Processing:\n",
    "- ❌Problem: Duplicate logic in event classes (LoginEvent, LogoutEvent)and hard to extend; relied on if-else conditions.\n",
    "- ✅Subclasses override only specific parts,Base class (Event) defines a common structure."
   ]
  },
  {
   "cell_type": "code",
   "execution_count": 45,
   "id": "703098fe",
   "metadata": {},
   "outputs": [
    {
     "name": "stdout",
     "output_type": "stream",
     "text": [
      "{'event': 'login', 'logline': 'User login successfully'}\n"
     ]
    }
   ],
   "source": [
    "class Event:\n",
    "    def process(self, logline):\n",
    "        if self.can_process(logline):\n",
    "            return self._process(logline)\n",
    "        raise ValueError(\"Cannot process logline\")\n",
    "\n",
    "    def can_process(self, logline):\n",
    "        raise NotImplementedError\n",
    "\n",
    "    def _process(self, logline):\n",
    "        raise NotImplementedError\n",
    "\n",
    "class LoginEvent(Event):\n",
    "    def can_process(self, logline):\n",
    "        return \"login\" in logline\n",
    "\n",
    "    def _process(self, logline):\n",
    "        return {\"event\": \"login\", \"logline\": logline}\n",
    "\n",
    "class LogoutEvent(Event):\n",
    "    def can_process(self, logline):\n",
    "        return \"logout\" in logline\n",
    "\n",
    "    def _process(self, logline):\n",
    "        return {\"event\": \"logout\", \"logline\": logline}\n",
    "\n",
    "event = LoginEvent()\n",
    "result = event.process(\"User login successfully\")\n",
    "print(result)  # {'event': 'login', 'logline': 'User login successfully'}"
   ]
  },
  {
   "cell_type": "markdown",
   "id": "eee2ccc9",
   "metadata": {},
   "source": [
    "## 12. Command Pattern (Deferred Execution):\n",
    "- ❌Problem: Separate request creation from execution.\n",
    "- ⚠️Before: Immediate execution made undoing or delaying actions difficult.\n",
    "- ✅Solution: Encapsulates actions as command objects, allowing delayed execution"
   ]
  },
  {
   "cell_type": "code",
   "execution_count": 47,
   "id": "34dd8d02",
   "metadata": {},
   "outputs": [
    {
     "name": "stdout",
     "output_type": "stream",
     "text": [
      "Hello\n",
      "World\n"
     ]
    }
   ],
   "source": [
    "class Command:\n",
    "    def execute(self):\n",
    "        raise NotImplementedError\n",
    "\n",
    "class PrintCommand(Command):\n",
    "    def __init__(self, message):\n",
    "        self.message = message\n",
    "\n",
    "    def execute(self):\n",
    "        print(self.message)\n",
    "\n",
    "class CommandQueue:\n",
    "    def __init__(self):\n",
    "        self.queue = []\n",
    "\n",
    "    def add_command(self, command):\n",
    "        self.queue.append(command)\n",
    "\n",
    "    def execute_all(self):\n",
    "        for command in self.queue:\n",
    "            command.execute()\n",
    "        self.queue.clear()\n",
    "\n",
    "queue = CommandQueue()\n",
    "queue.add_command(PrintCommand(\"Hello\"))\n",
    "queue.add_command(PrintCommand(\"World\"))\n",
    "queue.execute_all()"
   ]
  },
  {
   "cell_type": "markdown",
   "id": "3ea10fa5",
   "metadata": {},
   "source": [
    "## 13. State Pattern (Merge Request States):\n",
    "- ❌Problem: Manage state-specific behavior dynamically.\n",
    "- ⚠️Before: if-else chains made state transitions complex.\n",
    "- ✅Solution: Encapsulates each state in separate classes, reducing complexity"
   ]
  },
  {
   "cell_type": "code",
   "execution_count": 48,
   "id": "3bdb3cb6",
   "metadata": {},
   "outputs": [
    {
     "name": "stdout",
     "output_type": "stream",
     "text": [
      "Closing merge request\n",
      "Reopening merge request\n",
      "Merging and closing merge request\n"
     ]
    }
   ],
   "source": [
    "class InvalidTransitionError(Exception):\n",
    "    pass\n",
    "\n",
    "class MergeRequestState:\n",
    "    def open(self):\n",
    "        raise NotImplementedError\n",
    "\n",
    "    def close(self):\n",
    "        raise NotImplementedError\n",
    "\n",
    "    def merge(self):\n",
    "        raise NotImplementedError\n",
    "\n",
    "class OpenState(MergeRequestState):\n",
    "    def open(self):\n",
    "        print(\"Already open\")\n",
    "\n",
    "    def close(self, merge_request):\n",
    "        print(\"Closing merge request\")\n",
    "        merge_request.state = ClosedState()\n",
    "\n",
    "    def merge(self, merge_request):\n",
    "        print(\"Merging and closing merge request\")\n",
    "        merge_request.state = MergedState()\n",
    "\n",
    "class ClosedState(MergeRequestState):\n",
    "    def open(self, merge_request):\n",
    "        print(\"Reopening merge request\")\n",
    "        merge_request.state = OpenState()\n",
    "\n",
    "    def close(self):\n",
    "        print(\"Already closed\")\n",
    "\n",
    "    def merge(self):\n",
    "        raise InvalidTransitionError(\"Cannot merge a closed request\")\n",
    "\n",
    "class MergedState(MergeRequestState):\n",
    "    def open(self):\n",
    "        raise InvalidTransitionError(\"Already merged\")\n",
    "\n",
    "    def close(self):\n",
    "        raise InvalidTransitionError(\"Already merged\")\n",
    "\n",
    "    def merge(self):\n",
    "        print(\"Already merged\")\n",
    "\n",
    "class MergeRequest:\n",
    "    def __init__(self):\n",
    "        self.state = OpenState()\n",
    "\n",
    "    def open(self):\n",
    "        self.state.open(self)\n",
    "\n",
    "    def close(self):\n",
    "        self.state.close(self)\n",
    "\n",
    "    def merge(self):\n",
    "        self.state.merge(self)\n",
    "\n",
    "mr = MergeRequest()\n",
    "mr.close()  # Closing merge request\n",
    "mr.open()   # Reopening merge request\n",
    "mr.merge()  # Merging and closing merge request"
   ]
  },
  {
   "cell_type": "markdown",
   "id": "3713fe0b",
   "metadata": {},
   "source": [
    "## 14. Null Object Pattern:\n",
    "- ❌Problem: Prevent None from causing runtime errors.\n",
    "- ⚠️Before: AttributeError occurred when accessing None attributes.\n",
    "- ✅Solution: A \"do-nothing\" object that behaves like a real object"
   ]
  },
  {
   "cell_type": "code",
   "execution_count": 50,
   "id": "d29955a8",
   "metadata": {},
   "outputs": [
    {
     "name": "stdout",
     "output_type": "stream",
     "text": [
      "No user to send message\n"
     ]
    }
   ],
   "source": [
    "class User:\n",
    "    def __init__(self, name):\n",
    "        self.name = name\n",
    "\n",
    "    def send_message(self, message):\n",
    "        print(f\"Sending message to {self.name}: {message}\")\n",
    "\n",
    "class NullUser(User):\n",
    "    def __init__(self):\n",
    "        super().__init__(\"Unknown\")\n",
    "\n",
    "    def send_message(self, message):\n",
    "        print(\"No user to send message\")\n",
    "def get_user(user_id):\n",
    "    return User(\"John\") if user_id == 1 else NullUser()\n",
    "\n",
    "user = get_user(0)\n",
    "user.send_message(\"Hello!\") "
   ]
  },
  {
   "cell_type": "markdown",
   "id": "f944a324",
   "metadata": {},
   "source": [
    "## 15. SharedAllMixin:\n",
    "- ❌Problem: Reducing duplication in Borg-based implementations.\n",
    "- ✅Solution: A Mixin ensures all attributes are shared without repetition."
   ]
  },
  {
   "cell_type": "code",
   "execution_count": 43,
   "id": "6abc4240",
   "metadata": {},
   "outputs": [],
   "source": [
    "class SharedAllMixin:\n",
    "    def __init__(self, *args, **kwargs):\n",
    "        try:\n",
    "            self.__class__._attributes\n",
    "        except AttributeError:\n",
    "            self.__class__._attributes = {}\n",
    "\n",
    "        self.__dict__ = self.__class__._attributes\n",
    "        super().__init__(*args, **kwargs)\n",
    "\n",
    "class BaseFetcher:\n",
    "    def __init__(self, source):\n",
    "        self.source = source\n",
    "\n",
    "class TagFetcher(SharedAllMixin, BaseFetcher):\n",
    "    def pull(self):\n",
    "        return f\"Pulling from tag {self.source}\"\n",
    "\n",
    "class BranchFetcher(SharedAllMixin, BaseFetcher):\n",
    "    def pull(self):\n",
    "        return f\"Pulling from branch {self.source}\""
   ]
  },
  {
   "cell_type": "code",
   "execution_count": 44,
   "id": "5c2d58e3",
   "metadata": {},
   "outputs": [
    {
     "name": "stdout",
     "output_type": "stream",
     "text": [
      "develop\n"
     ]
    }
   ],
   "source": [
    "tag1 = TagFetcher(\"v1.0\")\n",
    "branch1 = BranchFetcher(\"develop\")\n",
    "\n",
    "tag1.source = \"v2.0\"\n",
    "print(branch1.source) "
   ]
  },
  {
   "cell_type": "markdown",
   "id": "18a8c856",
   "metadata": {},
   "source": [
    "## 16. UserSource (Adapter Pattern):\n",
    "- ❌Problem: Adapting external APIs to match internal interfaces.\n",
    "- ⚠️Before: Direct usage of external APIs required modifications.\n",
    "- ✅Solution: A wrapper class to adapt method calls​"
   ]
  },
  {
   "cell_type": "code",
   "execution_count": 51,
   "id": "2d6b5318",
   "metadata": {},
   "outputs": [],
   "source": [
    "class UserSource:\n",
    "    def __init__(self, adaptee):\n",
    "        self.adaptee = adaptee\n",
    "\n",
    "    def fetch(self, user_id, username):\n",
    "        user_namespace = self._adapt_arguments(user_id, username)\n",
    "        return self.adaptee.search(user_namespace)\n",
    "\n",
    "    @staticmethod\n",
    "    def _adapt_arguments(user_id, username):\n",
    "        return f\"{user_id}:{username}\""
   ]
  },
  {
   "cell_type": "markdown",
   "id": "f2d3eeef",
   "metadata": {},
   "source": [
    "#### for example:"
   ]
  },
  {
   "cell_type": "code",
   "execution_count": 52,
   "id": "3ae94a25",
   "metadata": {},
   "outputs": [
    {
     "name": "stdout",
     "output_type": "stream",
     "text": [
      "Searching for 42:john_doe\n"
     ]
    }
   ],
   "source": [
    "external = UsernameLookup()\n",
    "adapter = UserSource(external)\n",
    "\n",
    "result = adapter.fetch(42, \"john_doe\")\n",
    "print(result) "
   ]
  },
  {
   "cell_type": "markdown",
   "id": "91dca9e8",
   "metadata": {},
   "source": [
    "# ****************************************************************************************************************"
   ]
  },
  {
   "cell_type": "markdown",
   "id": "4cf79cff",
   "metadata": {},
   "source": [
    "### Amitis Hashemi"
   ]
  }
 ],
 "metadata": {
  "kernelspec": {
   "display_name": "Python 3 (ipykernel)",
   "language": "python",
   "name": "python3"
  },
  "language_info": {
   "codemirror_mode": {
    "name": "ipython",
    "version": 3
   },
   "file_extension": ".py",
   "mimetype": "text/x-python",
   "name": "python",
   "nbconvert_exporter": "python",
   "pygments_lexer": "ipython3",
   "version": "3.12.3"
  }
 },
 "nbformat": 4,
 "nbformat_minor": 5
}
